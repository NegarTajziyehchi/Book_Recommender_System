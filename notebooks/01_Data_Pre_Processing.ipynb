{
 "cells": [
  {
   "cell_type": "code",
   "execution_count": 2,
   "id": "12511da3",
   "metadata": {},
   "outputs": [],
   "source": [
    "import pandas as pd"
   ]
  },
  {
   "cell_type": "code",
   "execution_count": null,
   "id": "31b839aa-cc24-46e5-8533-541343efff99",
   "metadata": {},
   "outputs": [],
   "source": [
    "ratings = pd.read_csv('../data/raw/book_ratings.dat', delimiter='\\s+')\n",
    "users = pd.read_csv('../data/raw/users_info.dat', delimiter='\\t+')\n",
    "items = pd.read_csv('../data/raw/items_info.dat', sep='\\t+', on_bad_lines='skip')"
   ]
  },
  {
   "cell_type": "code",
   "execution_count": 4,
   "id": "417a940b",
   "metadata": {},
   "outputs": [],
   "source": [
    "# Drop location from users dataset\n",
    "users.drop(columns='Location',axis=1, inplace= True)"
   ]
  },
  {
   "cell_type": "code",
   "execution_count": 5,
   "id": "e5109bc8",
   "metadata": {},
   "outputs": [],
   "source": [
    "# Drop columns in book dataset\n",
    "books = items[['Book_ID', 'Book-Title', 'Book-Author']]"
   ]
  },
  {
   "cell_type": "code",
   "execution_count": null,
   "id": "00c168ad",
   "metadata": {},
   "outputs": [],
   "source": [
    "# Merge rating and books\n",
    "df1 = pd.merge(ratings, items, left_on='item', right_on='Book_ID')\n",
    "df1.head(2)"
   ]
  },
  {
   "cell_type": "code",
   "execution_count": null,
   "id": "d381cd0e",
   "metadata": {},
   "outputs": [],
   "source": [
    "# Merge df1 and users\n",
    "df = pd.merge(df1, users, left_on='user', right_on='User-ID')\n",
    "df.head(2)"
   ]
  },
  {
   "cell_type": "code",
   "execution_count": 8,
   "id": "beac164f",
   "metadata": {},
   "outputs": [],
   "source": [
    "df.drop(['item', 'Book_ID', 'Year-Of-Publication', 'ISBN', 'Publisher', 'Image-URL-S', 'Image-URL-M', 'Image-URL-L', 'User-ID'], axis=1, inplace=True)"
   ]
  },
  {
   "cell_type": "code",
   "execution_count": null,
   "id": "5270d3ac",
   "metadata": {},
   "outputs": [],
   "source": [
    "# Check the percentage of unique values in each feature\n",
    "\n",
    "for col in df.columns:\n",
    "    print(f\"{col:} has {df[col].nunique():,} values\")"
   ]
  },
  {
   "cell_type": "code",
   "execution_count": null,
   "id": "d9d726bd",
   "metadata": {},
   "outputs": [],
   "source": [
    "df.dropna(inplace=True)\n",
    "df.isna().sum()"
   ]
  },
  {
   "cell_type": "code",
   "execution_count": null,
   "id": "bd74604d",
   "metadata": {},
   "outputs": [],
   "source": [
    "# Remove age outliers\n",
    "df = df[~df['Age'].between(100, 300)]\n",
    "df.head()"
   ]
  },
  {
   "cell_type": "code",
   "execution_count": 12,
   "id": "8632a44f",
   "metadata": {},
   "outputs": [],
   "source": [
    "# Convert categorical & numerical features to string & integer respectively\n",
    "\n",
    "for col in df.columns:\n",
    "    if col not in ['rating','Age']:\n",
    "        df[col] = df[col].astype(str)\n",
    "    else:\n",
    "        df[col] = df[col].astype(int)"
   ]
  },
  {
   "cell_type": "code",
   "execution_count": null,
   "id": "a400626a",
   "metadata": {},
   "outputs": [],
   "source": [
    "df.dtypes"
   ]
  },
  {
   "cell_type": "code",
   "execution_count": 14,
   "id": "d56d2060",
   "metadata": {},
   "outputs": [],
   "source": [
    "df.to_csv('/home/ubuntu/recommender_system/data/processed/clean_data.csv', index=False)  "
   ]
  },
  {
   "cell_type": "code",
   "execution_count": 15,
   "id": "2ab945e8",
   "metadata": {},
   "outputs": [
    {
     "data": {
      "text/html": [
       "<div>\n",
       "<style scoped>\n",
       "    .dataframe tbody tr th:only-of-type {\n",
       "        vertical-align: middle;\n",
       "    }\n",
       "\n",
       "    .dataframe tbody tr th {\n",
       "        vertical-align: top;\n",
       "    }\n",
       "\n",
       "    .dataframe thead th {\n",
       "        text-align: right;\n",
       "    }\n",
       "</style>\n",
       "<table border=\"1\" class=\"dataframe\">\n",
       "  <thead>\n",
       "    <tr style=\"text-align: right;\">\n",
       "      <th></th>\n",
       "      <th>user</th>\n",
       "      <th>rating</th>\n",
       "      <th>Book-Title</th>\n",
       "      <th>Book-Author</th>\n",
       "      <th>Age</th>\n",
       "    </tr>\n",
       "  </thead>\n",
       "  <tbody>\n",
       "    <tr>\n",
       "      <th>0</th>\n",
       "      <td>1</td>\n",
       "      <td>7</td>\n",
       "      <td>Something Wicked This Way Comes</td>\n",
       "      <td>Ray Bradbury</td>\n",
       "      <td>24</td>\n",
       "    </tr>\n",
       "    <tr>\n",
       "      <th>1</th>\n",
       "      <td>1</td>\n",
       "      <td>7</td>\n",
       "      <td>The Mists of Avalon</td>\n",
       "      <td>MARION ZIMMER BRADLEY</td>\n",
       "      <td>24</td>\n",
       "    </tr>\n",
       "    <tr>\n",
       "      <th>2</th>\n",
       "      <td>1</td>\n",
       "      <td>5</td>\n",
       "      <td>Sacred Sins</td>\n",
       "      <td>Nora Roberts</td>\n",
       "      <td>24</td>\n",
       "    </tr>\n",
       "    <tr>\n",
       "      <th>3</th>\n",
       "      <td>1</td>\n",
       "      <td>9</td>\n",
       "      <td>What a Wonderful World: A Lifetime of Recordings</td>\n",
       "      <td>Bob Thiele</td>\n",
       "      <td>24</td>\n",
       "    </tr>\n",
       "    <tr>\n",
       "      <th>4</th>\n",
       "      <td>1</td>\n",
       "      <td>6</td>\n",
       "      <td>A Coral Kiss</td>\n",
       "      <td>Jayne Ann Krentz</td>\n",
       "      <td>24</td>\n",
       "    </tr>\n",
       "    <tr>\n",
       "      <th>...</th>\n",
       "      <td>...</td>\n",
       "      <td>...</td>\n",
       "      <td>...</td>\n",
       "      <td>...</td>\n",
       "      <td>...</td>\n",
       "    </tr>\n",
       "    <tr>\n",
       "      <th>59460</th>\n",
       "      <td>2945</td>\n",
       "      <td>8</td>\n",
       "      <td>Arcadia</td>\n",
       "      <td>Jim Crace</td>\n",
       "      <td>34</td>\n",
       "    </tr>\n",
       "    <tr>\n",
       "      <th>59461</th>\n",
       "      <td>2945</td>\n",
       "      <td>6</td>\n",
       "      <td>Other Worlds</td>\n",
       "      <td>Barbara Michaels</td>\n",
       "      <td>34</td>\n",
       "    </tr>\n",
       "    <tr>\n",
       "      <th>59462</th>\n",
       "      <td>2945</td>\n",
       "      <td>9</td>\n",
       "      <td>MR CLEMENS TWAIN P (Touchstone Books (Paperback))</td>\n",
       "      <td>Justin Kaplan</td>\n",
       "      <td>34</td>\n",
       "    </tr>\n",
       "    <tr>\n",
       "      <th>59463</th>\n",
       "      <td>2945</td>\n",
       "      <td>7</td>\n",
       "      <td>Mistress of the Empire</td>\n",
       "      <td>Raymond E. Feist</td>\n",
       "      <td>34</td>\n",
       "    </tr>\n",
       "    <tr>\n",
       "      <th>59464</th>\n",
       "      <td>2945</td>\n",
       "      <td>8</td>\n",
       "      <td>French Twist</td>\n",
       "      <td>Roxanne St. Claire</td>\n",
       "      <td>34</td>\n",
       "    </tr>\n",
       "  </tbody>\n",
       "</table>\n",
       "<p>59223 rows × 5 columns</p>\n",
       "</div>"
      ],
      "text/plain": [
       "       user  rating                                         Book-Title  \\\n",
       "0         1       7                    Something Wicked This Way Comes   \n",
       "1         1       7                                The Mists of Avalon   \n",
       "2         1       5                                        Sacred Sins   \n",
       "3         1       9   What a Wonderful World: A Lifetime of Recordings   \n",
       "4         1       6                                       A Coral Kiss   \n",
       "...     ...     ...                                                ...   \n",
       "59460  2945       8                                            Arcadia   \n",
       "59461  2945       6                                       Other Worlds   \n",
       "59462  2945       9  MR CLEMENS TWAIN P (Touchstone Books (Paperback))   \n",
       "59463  2945       7                             Mistress of the Empire   \n",
       "59464  2945       8                                       French Twist   \n",
       "\n",
       "                 Book-Author  Age  \n",
       "0               Ray Bradbury   24  \n",
       "1      MARION ZIMMER BRADLEY   24  \n",
       "2               Nora Roberts   24  \n",
       "3                 Bob Thiele   24  \n",
       "4           Jayne Ann Krentz   24  \n",
       "...                      ...  ...  \n",
       "59460              Jim Crace   34  \n",
       "59461       Barbara Michaels   34  \n",
       "59462          Justin Kaplan   34  \n",
       "59463       Raymond E. Feist   34  \n",
       "59464     Roxanne St. Claire   34  \n",
       "\n",
       "[59223 rows x 5 columns]"
      ]
     },
     "execution_count": 15,
     "metadata": {},
     "output_type": "execute_result"
    }
   ],
   "source": [
    "df"
   ]
  },
  {
   "cell_type": "code",
   "execution_count": null,
   "id": "8cbfc73c",
   "metadata": {},
   "outputs": [],
   "source": []
  }
 ],
 "metadata": {
  "kernelspec": {
   "display_name": "Python 3 (ipykernel)",
   "language": "python",
   "name": "python3"
  },
  "language_info": {
   "codemirror_mode": {
    "name": "ipython",
    "version": 3
   },
   "file_extension": ".py",
   "mimetype": "text/x-python",
   "name": "python",
   "nbconvert_exporter": "python",
   "pygments_lexer": "ipython3",
   "version": "3.11.7"
  }
 },
 "nbformat": 4,
 "nbformat_minor": 5
}
